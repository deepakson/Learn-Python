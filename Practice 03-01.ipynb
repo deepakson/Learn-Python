{
 "cells": [
  {
   "cell_type": "code",
   "execution_count": null,
   "metadata": {},
   "outputs": [],
   "source": [
    "# https://leetcode.com/problems/running-sum-of-1d-array\n",
    "def running_sum(nums):\n",
    "    \n",
    "    output = [nums[0]]\n",
    "    \n",
    "    for i in nums[1:]:\n",
    "        \n",
    "        res = output[-1] + i\n",
    "        \n",
    "        output.append(res)\n",
    "    \n",
    "    return output"
   ]
  },
  {
   "cell_type": "code",
   "execution_count": null,
   "metadata": {},
   "outputs": [],
   "source": [
    "running_sum([1])"
   ]
  },
  {
   "cell_type": "code",
   "execution_count": null,
   "metadata": {},
   "outputs": [],
   "source": [
    "# https://leetcode.com/problems/shuffle-the-array\n",
    "def shuffle_array(nums):\n",
    "    \n",
    "    n = len(nums)//2\n",
    "    \n",
    "    output = []\n",
    "    \n",
    "    for i in range(n):\n",
    "        \n",
    "        output.append(nums[i])\n",
    "        output.append(nums[i+n])\n",
    "\n",
    "    return output\n",
    "\n",
    "shuffle_array([1,2,3,4])"
   ]
  },
  {
   "cell_type": "code",
   "execution_count": null,
   "metadata": {},
   "outputs": [],
   "source": [
    "# https://leetcode.com/problems/kids-with-the-greatest-number-of-candies\n",
    "def greatest_candies(candies, extracandies):\n",
    "    output = []\n",
    "    m = max(candies)\n",
    "    \n",
    "    for i in candies:\n",
    "        if (i + extracandies) >= m :\n",
    "            output.append(True)\n",
    "        else:\n",
    "            output.append(False)\n",
    "            \n",
    "    return output\n",
    "    \n",
    "greatest_candies(candies = [4,2,1,1,2], extracandies = 1)    "
   ]
  },
  {
   "cell_type": "code",
   "execution_count": null,
   "metadata": {},
   "outputs": [],
   "source": [
    "# https://leetcode.com/problems/richest-customer-wealth\n",
    "def richest_customer(accounts):\n",
    "    \n",
    "    output = []\n",
    "    \n",
    "    for i in accounts:\n",
    "        m = sum(i)\n",
    "        output.append(m)\n",
    "    \n",
    "    n = max(output)\n",
    "    \n",
    "    return n\n",
    "\n",
    "richest_customer( [[1,5],[7,3],[3,5]])\n",
    "    "
   ]
  },
  {
   "cell_type": "code",
   "execution_count": null,
   "metadata": {},
   "outputs": [],
   "source": [
    "def richest_customer(accounts):\n",
    "    \n",
    "    m = 0\n",
    "    \n",
    "    for i in accounts:\n",
    "        \n",
    "        n = sum(i)\n",
    "        \n",
    "        if n >= m:\n",
    "            \n",
    "            m = n\n",
    "    \n",
    "    return m\n",
    "\n",
    "richest_customer( [[1,5],[7,3],[3,5]])\n",
    "    "
   ]
  },
  {
   "cell_type": "code",
   "execution_count": null,
   "metadata": {},
   "outputs": [],
   "source": [
    "# https://leetcode.com/problems/number-of-good-pairs\n",
    "def good_pairs(nums):\n",
    "    \n",
    "    n = 0\n",
    "    \n",
    "    for i in range(len(nums)):\n",
    "        \n",
    "        for j in range(i+1, len(nums)):\n",
    "            \n",
    "            if nums[i] == nums[j]:\n",
    "                \n",
    "                n = n + 1\n",
    "                \n",
    "    return n\n",
    "\n",
    "good_pairs([1,1,1,1])    "
   ]
  },
  {
   "cell_type": "code",
   "execution_count": null,
   "metadata": {},
   "outputs": [],
   "source": [
    "TODO:\n",
    "\n",
    "# https://leetcode.com/problems/how-many-numbers-are-smaller-than-the-current-number/\n",
    "# https://leetcode.com/problems/count-good-triplets/\n",
    "# https://leetcode.com/problems/matrix-diagonal-sum/"
   ]
  }
 ],
 "metadata": {
  "kernelspec": {
   "display_name": "Python 3",
   "language": "python",
   "name": "python3"
  },
  "language_info": {
   "codemirror_mode": {
    "name": "ipython",
    "version": 3
   },
   "file_extension": ".py",
   "mimetype": "text/x-python",
   "name": "python",
   "nbconvert_exporter": "python",
   "pygments_lexer": "ipython3",
   "version": "3.7.6"
  }
 },
 "nbformat": 4,
 "nbformat_minor": 4
}
