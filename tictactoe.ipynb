{
 "cells": [
  {
   "cell_type": "code",
   "execution_count": 44,
   "metadata": {},
   "outputs": [],
   "source": [
    "from IPython.display import clear_output"
   ]
  },
  {
   "cell_type": "code",
   "execution_count": 45,
   "metadata": {},
   "outputs": [],
   "source": [
    "def board(ls):\n",
    "\n",
    "    print(ls[1], '|', ls[2], '|', ls[3])\n",
    "    print('---------')\n",
    "    print(ls[4], '|', ls[5], '|', ls[6])\n",
    "    print('---------')\n",
    "    print(ls[7], '|', ls[8], '|', ls[9])"
   ]
  },
  {
   "cell_type": "code",
   "execution_count": 46,
   "metadata": {},
   "outputs": [],
   "source": [
    "def user_input(st):\n",
    "\n",
    "    flag = True\n",
    "\n",
    "    while flag==True:\n",
    "\n",
    "        try:\n",
    "\n",
    "            n= int(input(\"Enter a number between 1 to 9 : \"))\n",
    "\n",
    "            if(n>=1 and n<=9) and n not in st:\n",
    "                print(\"Value Accepted\")\n",
    "                flag=False\n",
    "                st.add(n)\n",
    "            else:\n",
    "                print('Enter a Valid Number')\n",
    "                print(\"Used Numbers: \", st)\n",
    "\n",
    "        except ValueError:\n",
    "            flag = True\n",
    "            print('Enter a Valid Number')\n",
    "            \n",
    "    return n"
   ]
  },
  {
   "cell_type": "code",
   "execution_count": 47,
   "metadata": {},
   "outputs": [],
   "source": [
    "def win_check():\n",
    "    if (ls[1] == ls[2] == ls[3] == 'X'  or ls[1] == ls[2] == ls[3] == 'O' or \n",
    "    ls[4] == ls[5] == ls[6] == 'X'  or ls[4] == ls[5] == ls[6] == 'O' or\n",
    "    ls[7] == ls[8] == ls[9] == 'X'  or ls[7] == ls[8] == ls[9] == 'O' or\n",
    "    \n",
    "    ls[1] == ls[4] == ls[7] == 'X'  or ls[1] == ls[4] == ls[7] == 'O' or \n",
    "    ls[2] == ls[5] == ls[8] == 'X'  or ls[2] == ls[5] == ls[8] == 'O' or\n",
    "    ls[3] == ls[6] == ls[9] == 'X'  or ls[3] == ls[6] == ls[9] == 'O' or\n",
    "    \n",
    "    ls[1] == ls[5] == ls[9] == 'X'  or ls[1] == ls[5] == ls[9] == 'O' or\n",
    "    ls[3] == ls[5] == ls[7] == 'X'  or ls[3] == ls[5] == ls[7] == 'O'):\n",
    "        return True\n",
    "    else:\n",
    "        return False"
   ]
  },
  {
   "cell_type": "code",
   "execution_count": 52,
   "metadata": {},
   "outputs": [],
   "source": [
    "# game starts\n",
    "\n",
    "st = set()\n",
    "ls = [' ']*10\n",
    "value = 'X'\n",
    "\n"
   ]
  },
  {
   "cell_type": "code",
   "execution_count": 53,
   "metadata": {},
   "outputs": [
    {
     "name": "stdout",
     "output_type": "stream",
     "text": [
      "X | O | O\n",
      "---------\n",
      "  | X |  \n",
      "---------\n",
      "  |   | X\n",
      "X wins\n"
     ]
    }
   ],
   "source": [
    "board(ls)\n",
    "count = 0\n",
    "flag = False\n",
    "\n",
    "\n",
    "while flag == False and count < 9:\n",
    "    \n",
    "    n = user_input(st)\n",
    "    ls[n] = value\n",
    "    \n",
    "    count = count + 1\n",
    "    \n",
    "    if count > 3:\n",
    "        flag = win_check()\n",
    "    \n",
    "    clear_output()\n",
    "    board(ls)\n",
    "    \n",
    "    # changing value for the next input\n",
    "    if value == \"X\":\n",
    "        value = 'O'\n",
    "    else:\n",
    "        value = 'X'\n",
    "    \n",
    "if flag == True:\n",
    "    \n",
    "    if value == \"X\":\n",
    "        print(\"O wins\")\n",
    "    else:\n",
    "        print(\"X wins\")\n",
    "        \n",
    "if count == 9:\n",
    "    print(\"Game Over\")"
   ]
  },
  {
   "cell_type": "code",
   "execution_count": null,
   "metadata": {},
   "outputs": [],
   "source": [
    "# play the game again and again\n",
    "# choose first player\n",
    "# board modification"
   ]
  }
 ],
 "metadata": {
  "kernelspec": {
   "display_name": "Python 3",
   "language": "python",
   "name": "python3"
  },
  "language_info": {
   "codemirror_mode": {
    "name": "ipython",
    "version": 3
   },
   "file_extension": ".py",
   "mimetype": "text/x-python",
   "name": "python",
   "nbconvert_exporter": "python",
   "pygments_lexer": "ipython3",
   "version": "3.7.6"
  }
 },
 "nbformat": 4,
 "nbformat_minor": 4
}
